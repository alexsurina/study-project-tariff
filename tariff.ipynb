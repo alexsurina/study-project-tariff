{
  "cells": [
    {
      "cell_type": "markdown",
      "metadata": {
        "id": "pMhKIaWiIdLs"
      },
      "source": [
        "# Рекомендация тарифов"
      ]
    },
    {
      "cell_type": "markdown",
      "metadata": {
        "id": "-IfiRDoJIdLs"
      },
      "source": [
        "Имея данные о поведении клиентов, которые уже перешли на эти тарифы, нужно построить модель для задачи классификации, которая выберет подходящий тариф, с максимально большим значением *accuracy*. "
      ]
    },
    {
      "cell_type": "markdown",
      "metadata": {
        "id": "paNgqW5RIdLt"
      },
      "source": [
        "## Знакомство с данными"
      ]
    },
    {
      "cell_type": "code",
      "execution_count": null,
      "metadata": {
        "id": "h8fcPQIRIdLt"
      },
      "outputs": [],
      "source": [
        "import pandas as pd\n",
        "\n",
        "from sklearn.model_selection import train_test_split\n",
        "from sklearn.metrics import accuracy_score \n",
        "\n",
        "from sklearn.tree import DecisionTreeClassifier \n",
        "from sklearn.ensemble import RandomForestClassifier \n",
        "from sklearn.linear_model import LogisticRegression \n",
        "\n",
        "from sklearn.dummy import DummyClassifier"
      ]
    },
    {
      "cell_type": "code",
      "execution_count": null,
      "metadata": {
        "id": "HgM_HQFaIdLv"
      },
      "outputs": [],
      "source": [
        "import warnings\n",
        "warnings.filterwarnings('ignore')"
      ]
    },
    {
      "cell_type": "code",
      "execution_count": null,
      "metadata": {
        "id": "HNYfiCnmIdLw"
      },
      "outputs": [],
      "source": [
        "df = pd.read_csv('/datasets/users_behavior.csv')"
      ]
    },
    {
      "cell_type": "code",
      "execution_count": null,
      "metadata": {
        "id": "tbJD3uHFIdLx",
        "outputId": "dad18985-5633-4587-f5bb-0505bbfbc1bf"
      },
      "outputs": [
        {
          "data": {
            "text/html": [
              "<div>\n",
              "<style scoped>\n",
              "    .dataframe tbody tr th:only-of-type {\n",
              "        vertical-align: middle;\n",
              "    }\n",
              "\n",
              "    .dataframe tbody tr th {\n",
              "        vertical-align: top;\n",
              "    }\n",
              "\n",
              "    .dataframe thead th {\n",
              "        text-align: right;\n",
              "    }\n",
              "</style>\n",
              "<table border=\"1\" class=\"dataframe\">\n",
              "  <thead>\n",
              "    <tr style=\"text-align: right;\">\n",
              "      <th></th>\n",
              "      <th>calls</th>\n",
              "      <th>minutes</th>\n",
              "      <th>messages</th>\n",
              "      <th>mb_used</th>\n",
              "      <th>is_ultra</th>\n",
              "    </tr>\n",
              "  </thead>\n",
              "  <tbody>\n",
              "    <tr>\n",
              "      <td>0</td>\n",
              "      <td>40.0</td>\n",
              "      <td>311.90</td>\n",
              "      <td>83.0</td>\n",
              "      <td>19915.42</td>\n",
              "      <td>0</td>\n",
              "    </tr>\n",
              "    <tr>\n",
              "      <td>1</td>\n",
              "      <td>85.0</td>\n",
              "      <td>516.75</td>\n",
              "      <td>56.0</td>\n",
              "      <td>22696.96</td>\n",
              "      <td>0</td>\n",
              "    </tr>\n",
              "    <tr>\n",
              "      <td>2</td>\n",
              "      <td>77.0</td>\n",
              "      <td>467.66</td>\n",
              "      <td>86.0</td>\n",
              "      <td>21060.45</td>\n",
              "      <td>0</td>\n",
              "    </tr>\n",
              "    <tr>\n",
              "      <td>3</td>\n",
              "      <td>106.0</td>\n",
              "      <td>745.53</td>\n",
              "      <td>81.0</td>\n",
              "      <td>8437.39</td>\n",
              "      <td>1</td>\n",
              "    </tr>\n",
              "    <tr>\n",
              "      <td>4</td>\n",
              "      <td>66.0</td>\n",
              "      <td>418.74</td>\n",
              "      <td>1.0</td>\n",
              "      <td>14502.75</td>\n",
              "      <td>0</td>\n",
              "    </tr>\n",
              "    <tr>\n",
              "      <td>...</td>\n",
              "      <td>...</td>\n",
              "      <td>...</td>\n",
              "      <td>...</td>\n",
              "      <td>...</td>\n",
              "      <td>...</td>\n",
              "    </tr>\n",
              "    <tr>\n",
              "      <td>3209</td>\n",
              "      <td>122.0</td>\n",
              "      <td>910.98</td>\n",
              "      <td>20.0</td>\n",
              "      <td>35124.90</td>\n",
              "      <td>1</td>\n",
              "    </tr>\n",
              "    <tr>\n",
              "      <td>3210</td>\n",
              "      <td>25.0</td>\n",
              "      <td>190.36</td>\n",
              "      <td>0.0</td>\n",
              "      <td>3275.61</td>\n",
              "      <td>0</td>\n",
              "    </tr>\n",
              "    <tr>\n",
              "      <td>3211</td>\n",
              "      <td>97.0</td>\n",
              "      <td>634.44</td>\n",
              "      <td>70.0</td>\n",
              "      <td>13974.06</td>\n",
              "      <td>0</td>\n",
              "    </tr>\n",
              "    <tr>\n",
              "      <td>3212</td>\n",
              "      <td>64.0</td>\n",
              "      <td>462.32</td>\n",
              "      <td>90.0</td>\n",
              "      <td>31239.78</td>\n",
              "      <td>0</td>\n",
              "    </tr>\n",
              "    <tr>\n",
              "      <td>3213</td>\n",
              "      <td>80.0</td>\n",
              "      <td>566.09</td>\n",
              "      <td>6.0</td>\n",
              "      <td>29480.52</td>\n",
              "      <td>1</td>\n",
              "    </tr>\n",
              "  </tbody>\n",
              "</table>\n",
              "<p>3214 rows × 5 columns</p>\n",
              "</div>"
            ],
            "text/plain": [
              "      calls  minutes  messages   mb_used  is_ultra\n",
              "0      40.0   311.90      83.0  19915.42         0\n",
              "1      85.0   516.75      56.0  22696.96         0\n",
              "2      77.0   467.66      86.0  21060.45         0\n",
              "3     106.0   745.53      81.0   8437.39         1\n",
              "4      66.0   418.74       1.0  14502.75         0\n",
              "...     ...      ...       ...       ...       ...\n",
              "3209  122.0   910.98      20.0  35124.90         1\n",
              "3210   25.0   190.36       0.0   3275.61         0\n",
              "3211   97.0   634.44      70.0  13974.06         0\n",
              "3212   64.0   462.32      90.0  31239.78         0\n",
              "3213   80.0   566.09       6.0  29480.52         1\n",
              "\n",
              "[3214 rows x 5 columns]"
            ]
          },
          "execution_count": 4,
          "metadata": {},
          "output_type": "execute_result"
        }
      ],
      "source": [
        "df"
      ]
    },
    {
      "cell_type": "code",
      "execution_count": null,
      "metadata": {
        "id": "KnN9M2hhIdLy",
        "outputId": "20e197ed-e037-4266-cb05-ecc61bafffd5"
      },
      "outputs": [
        {
          "name": "stdout",
          "output_type": "stream",
          "text": [
            "<class 'pandas.core.frame.DataFrame'>\n",
            "RangeIndex: 3214 entries, 0 to 3213\n",
            "Data columns (total 5 columns):\n",
            "calls       3214 non-null float64\n",
            "minutes     3214 non-null float64\n",
            "messages    3214 non-null float64\n",
            "mb_used     3214 non-null float64\n",
            "is_ultra    3214 non-null int64\n",
            "dtypes: float64(4), int64(1)\n",
            "memory usage: 125.7 KB\n"
          ]
        }
      ],
      "source": [
        "df.info()"
      ]
    },
    {
      "cell_type": "markdown",
      "metadata": {
        "id": "swaqnWDpIdLy"
      },
      "source": [
        "Пропусков нет. Типы данных правильные."
      ]
    },
    {
      "cell_type": "markdown",
      "metadata": {
        "id": "P3Tr6RRSIdLy"
      },
      "source": [
        "**Описание данных**\n",
        "\n",
        "Каждый объект в наборе данных — это информация о поведении одного пользователя за месяц. Известно:\n",
        "* сalls — количество звонков,\n",
        "* minutes — суммарная длительность звонков в минутах,\n",
        "* messages — количество sms-сообщений,\n",
        "* mb_used — израсходованный интернет-трафик в Мб,\n",
        "* is_ultra — каким тарифом пользовался в течение месяца («Ультра» — 1, «Смарт» — 0)."
      ]
    },
    {
      "cell_type": "markdown",
      "metadata": {
        "id": "2S0Yb7BDIdLz"
      },
      "source": [
        "## Разбиение данных на выборки"
      ]
    },
    {
      "cell_type": "markdown",
      "metadata": {
        "id": "A95-_c6EIdLz"
      },
      "source": [
        "Разделим исходные данные на обучающую, валидационную и тестовую выборки, в отношении 3 : 1 : 1"
      ]
    },
    {
      "cell_type": "code",
      "execution_count": null,
      "metadata": {
        "id": "OIwpIuKQIdL0"
      },
      "outputs": [],
      "source": [
        "features = df.drop(['is_ultra'], axis=1) # извлечем признаки\n",
        "target = df['is_ultra'] # извлечем целевой признак"
      ]
    },
    {
      "cell_type": "code",
      "execution_count": null,
      "metadata": {
        "id": "eyCCzUy9IdL0",
        "outputId": "7408c99e-26ee-4862-f765-69ffca1dde49"
      },
      "outputs": [
        {
          "data": {
            "text/plain": [
              "(3214, 4)"
            ]
          },
          "execution_count": 7,
          "metadata": {},
          "output_type": "execute_result"
        }
      ],
      "source": [
        "features.shape"
      ]
    },
    {
      "cell_type": "code",
      "execution_count": null,
      "metadata": {
        "id": "VmKiXNK9IdL0",
        "outputId": "603fdd44-f13d-4dd4-dd0a-4816e6304efd"
      },
      "outputs": [
        {
          "data": {
            "text/plain": [
              "(3214,)"
            ]
          },
          "execution_count": 8,
          "metadata": {},
          "output_type": "execute_result"
        }
      ],
      "source": [
        "target.shape"
      ]
    },
    {
      "cell_type": "code",
      "execution_count": null,
      "metadata": {
        "id": "Ga538VlvIdL1"
      },
      "outputs": [],
      "source": [
        "# отделим 20% данных для тестовой выборки\n",
        "features_train_valid, features_test, target_train_valid, target_test = train_test_split(\n",
        "    features, target, test_size=0.2, random_state=12345) "
      ]
    },
    {
      "cell_type": "code",
      "execution_count": null,
      "metadata": {
        "id": "CjDaZwKzIdL1",
        "outputId": "995e27fe-b0cc-4df1-9216-38c6557e2779"
      },
      "outputs": [
        {
          "data": {
            "text/plain": [
              "(643, 4)"
            ]
          },
          "execution_count": 10,
          "metadata": {},
          "output_type": "execute_result"
        }
      ],
      "source": [
        "features_test.shape # признаки, тестовая выборка"
      ]
    },
    {
      "cell_type": "code",
      "execution_count": null,
      "metadata": {
        "id": "Ig-KuooiIdL1",
        "outputId": "1bea27d1-c052-4c80-aeb3-d2a918618915"
      },
      "outputs": [
        {
          "data": {
            "text/plain": [
              "(643,)"
            ]
          },
          "execution_count": 11,
          "metadata": {},
          "output_type": "execute_result"
        }
      ],
      "source": [
        "target_test.shape # целевой признак, тестовая выборка"
      ]
    },
    {
      "cell_type": "code",
      "execution_count": null,
      "metadata": {
        "id": "1cAMt5AUIdL2"
      },
      "outputs": [],
      "source": [
        "# отделим 25% данных для валидационной выборки\n",
        "features_train, features_valid, target_train, target_valid = train_test_split(\n",
        "    features_train_valid, target_train_valid, test_size=0.25, random_state=12345) "
      ]
    },
    {
      "cell_type": "code",
      "execution_count": null,
      "metadata": {
        "scrolled": true,
        "id": "_UseR2DhIdL2",
        "outputId": "690215bd-0fa2-4f54-de64-7e64ecf5fac0"
      },
      "outputs": [
        {
          "data": {
            "text/plain": [
              "(1928, 4)"
            ]
          },
          "execution_count": 13,
          "metadata": {},
          "output_type": "execute_result"
        }
      ],
      "source": [
        "features_train.shape # признаки, тренировочная выборка"
      ]
    },
    {
      "cell_type": "code",
      "execution_count": null,
      "metadata": {
        "id": "qtlXdcqkIdL2",
        "outputId": "02ef413b-6a03-43dd-e663-1086725564cb"
      },
      "outputs": [
        {
          "data": {
            "text/plain": [
              "(1928,)"
            ]
          },
          "execution_count": 14,
          "metadata": {},
          "output_type": "execute_result"
        }
      ],
      "source": [
        "target_train.shape # целевой признак, тренировочная выборка"
      ]
    },
    {
      "cell_type": "code",
      "execution_count": null,
      "metadata": {
        "id": "P-5LCr8cIdL3",
        "outputId": "dfda9518-9179-4e4e-bb49-defa6941f29c"
      },
      "outputs": [
        {
          "data": {
            "text/plain": [
              "(643, 4)"
            ]
          },
          "execution_count": 15,
          "metadata": {},
          "output_type": "execute_result"
        }
      ],
      "source": [
        "features_valid.shape # признаки, валидационная выборка"
      ]
    },
    {
      "cell_type": "code",
      "execution_count": null,
      "metadata": {
        "id": "_qPciMnaIdL3",
        "outputId": "89f0add6-cdb9-4c32-8428-669128c270ca"
      },
      "outputs": [
        {
          "data": {
            "text/plain": [
              "(643,)"
            ]
          },
          "execution_count": 16,
          "metadata": {},
          "output_type": "execute_result"
        }
      ],
      "source": [
        "target_valid.shape # целевой признак, валидационная выборка"
      ]
    },
    {
      "cell_type": "markdown",
      "metadata": {
        "id": "wD3JySnnIdL3"
      },
      "source": [
        "<div class=\"alert alert-block alert-success\">\n",
        "<b>Успех:</b> Разбиение было сделано правильно. Отлично, что размеры полученных наборов были напечатаны!\n",
        "</div>"
      ]
    },
    {
      "cell_type": "markdown",
      "metadata": {
        "id": "NF4fVT1nIdL4"
      },
      "source": [
        "## Исследование моделей"
      ]
    },
    {
      "cell_type": "markdown",
      "metadata": {
        "id": "OWYjaZgRIdL4"
      },
      "source": [
        "3.1 Дерево решений"
      ]
    },
    {
      "cell_type": "code",
      "execution_count": null,
      "metadata": {
        "id": "uwBgs_apIdL4",
        "outputId": "2dc6c03d-440f-4331-b77b-81c1396a85ee"
      },
      "outputs": [
        {
          "name": "stdout",
          "output_type": "stream",
          "text": [
            "Accuracy лучшей модели 'Дерево решений' на валидационной выборке: 0.7744945567651633 Глубина дерева: 7\n"
          ]
        }
      ],
      "source": [
        "best_model_DT = None\n",
        "best_accuracy = 0\n",
        "best_depth = 0\n",
        "\n",
        "for depth in range(1, 11): # в цикле меняем гиперпараметр - максимальную глубину дерева\n",
        "    model = DecisionTreeClassifier(random_state=12345, max_depth=depth) # модель - дерево решений, с заданной глубиной дерева\n",
        "    model.fit(features_train, target_train) # алгоритм обучения - на выходе обученная модель на тренировочной выборке\n",
        "    predictions = model.predict(features_valid) # предсказания на валидационной выборке\n",
        "    accuracy = accuracy_score(target_valid, predictions) # доля правильных ответов - качество модели\n",
        "    if accuracy > best_accuracy:\n",
        "        best_model_DT = model\n",
        "        best_accuracy = accuracy\n",
        "        best_depth = depth\n",
        "        \n",
        "print(\"Accuracy лучшей модели 'Дерево решений' на валидационной выборке:\", best_accuracy, \"Глубина дерева:\", best_depth)"
      ]
    },
    {
      "cell_type": "markdown",
      "metadata": {
        "id": "y9enNFA0IdL5"
      },
      "source": [
        "3.2 Случайный лес"
      ]
    },
    {
      "cell_type": "code",
      "execution_count": null,
      "metadata": {
        "id": "d9Rla6ojIdL5",
        "outputId": "f199964d-5c8d-4633-d8b5-d107a2d30392"
      },
      "outputs": [
        {
          "name": "stdout",
          "output_type": "stream",
          "text": [
            "Accuracy лучшей модели 'Случайный лес' на валидационной выборке: 0.7947122861586314 Количество деревьев: 44\n"
          ]
        }
      ],
      "source": [
        "best_model_RF = None\n",
        "best_accuracy = 0\n",
        "best_est = 0\n",
        "\n",
        "for est in range(1, 51): # в цикле меняем гиперпараметр - максимальное количество деревьев\n",
        "    model = RandomForestClassifier(random_state=12345, n_estimators=est) # модель - случайный лес, с заданным количеством деревьев\n",
        "    model.fit(features_train, target_train) # алгоритм обучения - на выходе обученная модель на тренировочной выборке\n",
        "    accuracy = model.score(features_valid, target_valid) # доля правильных ответов - качество модели на валидационной выборке\n",
        "    if accuracy > best_accuracy:\n",
        "        best_model_RF = model\n",
        "        best_accuracy = accuracy\n",
        "        best_est = est\n",
        "        \n",
        "print(\"Accuracy лучшей модели 'Случайный лес' на валидационной выборке:\", best_accuracy, \"Количество деревьев:\", best_est)"
      ]
    },
    {
      "cell_type": "markdown",
      "metadata": {
        "id": "FHa46AquIdL6"
      },
      "source": [
        "3.3 Логистическая регрессия"
      ]
    },
    {
      "cell_type": "code",
      "execution_count": null,
      "metadata": {
        "id": "p30ogw-yIdL6",
        "outputId": "60eca27b-0c20-4c4b-c156-811470f87c9e"
      },
      "outputs": [
        {
          "name": "stdout",
          "output_type": "stream",
          "text": [
            "Accuracy модели логистической регрессии на валидационной выборке: 0.6967340590979783\n"
          ]
        }
      ],
      "source": [
        "model = LogisticRegression(random_state=12345) # модель логистической регрессии с параметром random_state=12345\n",
        "model.fit(features_train, target_train) # алгоритм обучения - на выходе обученная модель на тренировочной выборке\n",
        "accuracy = model.score(features_valid, target_valid) # доля правильных ответов - качество модели на валидационной выборке\n",
        "\n",
        "print(\"Accuracy модели логистической регрессии на валидационной выборке:\", accuracy)"
      ]
    },
    {
      "cell_type": "markdown",
      "metadata": {
        "id": "DtLdRYMJIdL7"
      },
      "source": [
        "На валидационной выборке лучшее качество показала модель \"Случайный лес\": 0.7947122861586314, Количество деревьев: 44 "
      ]
    },
    {
      "cell_type": "markdown",
      "metadata": {
        "id": "QVWNq9vKIdL7"
      },
      "source": [
        "## Проверка модель на тестовой выборке"
      ]
    },
    {
      "cell_type": "code",
      "execution_count": null,
      "metadata": {
        "id": "TDgpiToqIdL8",
        "outputId": "9c8ecc17-4797-48cf-ad3c-f37810d99867"
      },
      "outputs": [
        {
          "name": "stdout",
          "output_type": "stream",
          "text": [
            "Accuracy лучшей модели 'Дерево решений' на тестовой выборке: 0.7884914463452566 Глубина дерева: 7\n"
          ]
        }
      ],
      "source": [
        "predictions = best_model_DT.predict(features_test) # предсказания на тестовой выборке\n",
        "# доля правильных ответов - качество модели 'Дерево решений' на тестовой выборке\n",
        "accuracy = accuracy_score(target_test, predictions) \n",
        "print(\"Accuracy лучшей модели 'Дерево решений' на тестовой выборке:\", accuracy, \"Глубина дерева:\", best_depth)"
      ]
    },
    {
      "cell_type": "code",
      "execution_count": null,
      "metadata": {
        "id": "33wUr0eJIdL8",
        "outputId": "db2f39e9-e385-45ca-a22a-9f816e65011a"
      },
      "outputs": [
        {
          "name": "stdout",
          "output_type": "stream",
          "text": [
            "Accuracy лучшей модели 'Случайный лес' на тестовой выборке: 0.7916018662519441 Количество деревьев: 44\n"
          ]
        }
      ],
      "source": [
        "# доля правильных ответов - качество модели \"Случайный лес\" на тестовой выборке\n",
        "accuracy = best_model_RF.score(features_test, target_test) \n",
        "print(\"Accuracy лучшей модели 'Случайный лес' на тестовой выборке:\", accuracy, \"Количество деревьев:\", best_est)"
      ]
    },
    {
      "cell_type": "code",
      "execution_count": null,
      "metadata": {
        "id": "MXGHONOSIdL8",
        "outputId": "c1f5da4a-10d2-4e45-ea3c-47b31656b16a"
      },
      "outputs": [
        {
          "name": "stdout",
          "output_type": "stream",
          "text": [
            "Accuracy модели логистической регрессии на тестовой выборке: 0.702954898911353\n"
          ]
        }
      ],
      "source": [
        "# доля правильных ответов - качество модели логистической регрессии на тестовой выборке\n",
        "accuracy = model.score(features_test, target_test) \n",
        "print(\"Accuracy модели логистической регрессии на тестовой выборке:\", accuracy)"
      ]
    },
    {
      "cell_type": "markdown",
      "metadata": {
        "id": "ZJrjVKTEIdL8"
      },
      "source": [
        "На тестовой выборке лучшая модель \"Случайный лес\" (количество деревьев: 44) показала качество чуть хуже, чем на валидационной выборке: 0.7916018662519441. Будем считать, что лучшая модель достаточно хорошо обучена. Не переобучена и не недообучена."
      ]
    },
    {
      "cell_type": "markdown",
      "metadata": {
        "id": "QVuhuvrTIdL9"
      },
      "source": [
        "## Проверка модели на адекватность"
      ]
    },
    {
      "cell_type": "markdown",
      "metadata": {
        "id": "SmWsLnzhIdL9"
      },
      "source": [
        "Чтобы оценить адекватность модели в задачах классификации, нужно сравнить её со случайной. "
      ]
    },
    {
      "cell_type": "code",
      "execution_count": null,
      "metadata": {
        "id": "fmxDyvibIdL9",
        "outputId": "f40038c2-5906-4501-fdb9-f4977b5e97a9"
      },
      "outputs": [
        {
          "data": {
            "text/plain": [
              "DummyClassifier(constant=None, random_state=12345, strategy='most_frequent')"
            ]
          },
          "execution_count": 23,
          "metadata": {},
          "output_type": "execute_result"
        }
      ],
      "source": [
        "dummy_clf = DummyClassifier(strategy=\"most_frequent\", random_state=12345)\n",
        "#dummy_clf = DummyClassifier(strategy=\"stratified\", random_state=12345)\n",
        "#dummy_clf = DummyClassifier(strategy=\"prior\", random_state=12345)\n",
        "#dummy_clf = DummyClassifier(strategy=\"uniform\", random_state=12345)\n",
        "dummy_clf.fit(features_train, target_train) # алгоритм обучения - на выходе обученная модель на тренировочной выборке"
      ]
    },
    {
      "cell_type": "code",
      "execution_count": null,
      "metadata": {
        "id": "fuQ4-FB3IdL9",
        "outputId": "47f14689-fd10-4574-8b9c-be2de3f5203b"
      },
      "outputs": [
        {
          "name": "stdout",
          "output_type": "stream",
          "text": [
            "Accuracy случайной модели на валидационной выборке: 0.6889580093312597\n"
          ]
        }
      ],
      "source": [
        "# доля правильных ответов - качество случайной модели на валидационной выборке\n",
        "accuracy = dummy_clf.score(features_valid, target_valid) \n",
        "print(\"Accuracy случайной модели на валидационной выборке:\", accuracy)"
      ]
    },
    {
      "cell_type": "code",
      "execution_count": null,
      "metadata": {
        "id": "quPBHNTtIdL-",
        "outputId": "9768b97d-7891-4e7d-c309-1aeff5f4dfe4"
      },
      "outputs": [
        {
          "name": "stdout",
          "output_type": "stream",
          "text": [
            "Accuracy случайной модели на тестовой выборке: 0.6951788491446346\n"
          ]
        }
      ],
      "source": [
        "# доля правильных ответов - качество случайной модели на тестовой выборке\n",
        "accuracy = dummy_clf.score(features_test, target_test) \n",
        "print(\"Accuracy случайной модели на тестовой выборке:\", accuracy)"
      ]
    },
    {
      "cell_type": "markdown",
      "metadata": {
        "id": "QFwQ6tgeIdL-"
      },
      "source": [
        "Качество случайной модели на валидационной и на тестовой выборках хуже, чем показала лучшая модель \"Случайный лес\". Будем считать, что лучшая модель адекватна.  "
      ]
    },
    {
      "cell_type": "markdown",
      "metadata": {
        "id": "J0_heqdRIdL_"
      },
      "source": [
        "<div class=\"alert alert-block alert-warning\">\n",
        "<b>Выводы:</b> \n",
        "   \n",
        "На предложенной в проекте выборке было исследовано три вида моделей для задачи классификации (с изменением гиперпараметров):\n",
        "    \n",
        "* дерево решений\n",
        "* случайный лес\n",
        "* логистическая регрессия\n",
        "    \n",
        "Лучшее качество на валидационной выборке показала модель \"Случайный лес\" (количество деревьев: 44): 0.7947122861586314.   \n",
        "    \n",
        "На тестовой выборке лучшая модель \"Случайный лес\" (количество деревьев: 44) показала качество чуть хуже, чем на валидационной выборке: 0.7916018662519441. Будем считать, что лучшая модель достаточно хорошо обучена. Не переобучена и не недообучена.\n",
        "    \n",
        "Качество случайной модели на валидационной и на тестовой выборках хуже, чем показала лучшая модель \"Случайный лес\". Будем считать, что лучшая модель адекватна.    \n",
        "</div>"
      ]
    }
  ],
  "metadata": {
    "ExecuteTimeLog": [
      {
        "duration": 1336,
        "start_time": "2022-01-25T15:52:09.559Z"
      },
      {
        "duration": 23,
        "start_time": "2022-01-25T15:52:48.252Z"
      },
      {
        "duration": 36,
        "start_time": "2022-01-25T15:52:57.665Z"
      },
      {
        "duration": 12,
        "start_time": "2022-01-25T15:53:22.870Z"
      },
      {
        "duration": 1399,
        "start_time": "2022-01-26T13:33:47.013Z"
      },
      {
        "duration": 1245,
        "start_time": "2022-01-26T13:34:10.583Z"
      },
      {
        "duration": 66,
        "start_time": "2022-01-26T13:34:11.831Z"
      },
      {
        "duration": 24,
        "start_time": "2022-01-26T13:34:11.900Z"
      },
      {
        "duration": 8,
        "start_time": "2022-01-26T13:34:11.926Z"
      },
      {
        "duration": 5,
        "start_time": "2022-01-26T13:34:11.937Z"
      },
      {
        "duration": 14,
        "start_time": "2022-01-26T13:43:01.195Z"
      },
      {
        "duration": 6,
        "start_time": "2022-01-26T13:43:11.598Z"
      },
      {
        "duration": 6,
        "start_time": "2022-01-26T13:47:44.493Z"
      },
      {
        "duration": 15,
        "start_time": "2022-01-26T13:48:12.093Z"
      },
      {
        "duration": 14,
        "start_time": "2022-01-26T13:48:19.894Z"
      },
      {
        "duration": 7,
        "start_time": "2022-01-26T13:48:33.168Z"
      },
      {
        "duration": 7,
        "start_time": "2022-01-26T13:48:36.166Z"
      },
      {
        "duration": 5,
        "start_time": "2022-01-26T13:48:59.559Z"
      },
      {
        "duration": 6,
        "start_time": "2022-01-26T13:49:08.770Z"
      },
      {
        "duration": 7,
        "start_time": "2022-01-26T13:52:21.709Z"
      },
      {
        "duration": 15,
        "start_time": "2022-01-26T13:52:58.252Z"
      },
      {
        "duration": 14,
        "start_time": "2022-01-26T13:53:06.823Z"
      },
      {
        "duration": 6,
        "start_time": "2022-01-26T13:54:41.800Z"
      },
      {
        "duration": 5,
        "start_time": "2022-01-26T13:54:50.165Z"
      },
      {
        "duration": 5,
        "start_time": "2022-01-26T13:54:59.371Z"
      },
      {
        "duration": 6,
        "start_time": "2022-01-26T13:55:05.066Z"
      },
      {
        "duration": 8,
        "start_time": "2022-01-26T13:55:38.250Z"
      },
      {
        "duration": 5,
        "start_time": "2022-01-26T13:55:49.631Z"
      },
      {
        "duration": 5,
        "start_time": "2022-01-26T13:56:17.599Z"
      },
      {
        "duration": 4,
        "start_time": "2022-01-26T13:58:32.935Z"
      },
      {
        "duration": 4,
        "start_time": "2022-01-26T13:58:39.666Z"
      },
      {
        "duration": 3,
        "start_time": "2022-01-26T14:06:10.046Z"
      },
      {
        "duration": 137,
        "start_time": "2022-01-26T14:06:40.625Z"
      },
      {
        "duration": 27,
        "start_time": "2022-01-26T14:06:55.278Z"
      },
      {
        "duration": 5,
        "start_time": "2022-01-26T14:09:18.974Z"
      },
      {
        "duration": 3,
        "start_time": "2022-01-26T14:09:38.046Z"
      },
      {
        "duration": 19,
        "start_time": "2022-01-26T14:09:40.678Z"
      },
      {
        "duration": 6,
        "start_time": "2022-01-26T14:09:43.214Z"
      },
      {
        "duration": 4,
        "start_time": "2022-01-26T14:11:26.232Z"
      },
      {
        "duration": 5,
        "start_time": "2022-01-26T14:11:59.759Z"
      },
      {
        "duration": 4,
        "start_time": "2022-01-26T14:13:27.656Z"
      },
      {
        "duration": 5,
        "start_time": "2022-01-26T14:13:40.837Z"
      },
      {
        "duration": 7,
        "start_time": "2022-01-26T14:14:07.750Z"
      },
      {
        "duration": 4,
        "start_time": "2022-01-26T14:15:35.301Z"
      },
      {
        "duration": 18,
        "start_time": "2022-01-26T14:15:36.550Z"
      },
      {
        "duration": 5,
        "start_time": "2022-01-26T14:15:37.822Z"
      },
      {
        "duration": 5,
        "start_time": "2022-01-26T14:15:39.109Z"
      },
      {
        "duration": 5,
        "start_time": "2022-01-26T14:15:40.309Z"
      },
      {
        "duration": 71,
        "start_time": "2022-01-26T14:25:08.470Z"
      },
      {
        "duration": 68,
        "start_time": "2022-01-26T14:29:08.262Z"
      },
      {
        "duration": 72,
        "start_time": "2022-01-26T14:36:18.640Z"
      },
      {
        "duration": 554,
        "start_time": "2022-01-26T14:36:27.838Z"
      },
      {
        "duration": 318,
        "start_time": "2022-01-26T14:37:41.305Z"
      },
      {
        "duration": 1054,
        "start_time": "2022-01-26T14:37:54.598Z"
      },
      {
        "duration": 6156,
        "start_time": "2022-01-26T14:38:06.454Z"
      },
      {
        "duration": 4,
        "start_time": "2022-01-26T14:39:39.958Z"
      },
      {
        "duration": 18,
        "start_time": "2022-01-26T14:44:15.537Z"
      },
      {
        "duration": 3,
        "start_time": "2022-01-26T14:45:38.543Z"
      },
      {
        "duration": 16,
        "start_time": "2022-01-26T14:45:44.096Z"
      },
      {
        "duration": 68,
        "start_time": "2022-01-26T14:55:26.286Z"
      },
      {
        "duration": 6313,
        "start_time": "2022-01-26T14:55:54.398Z"
      },
      {
        "duration": 17,
        "start_time": "2022-01-26T14:56:35.350Z"
      },
      {
        "duration": 17,
        "start_time": "2022-01-26T14:56:44.624Z"
      },
      {
        "duration": 15,
        "start_time": "2022-01-26T14:57:04.681Z"
      },
      {
        "duration": 1251,
        "start_time": "2022-01-26T14:57:29.319Z"
      },
      {
        "duration": 3,
        "start_time": "2022-01-26T14:57:30.573Z"
      },
      {
        "duration": 32,
        "start_time": "2022-01-26T14:57:30.579Z"
      },
      {
        "duration": 29,
        "start_time": "2022-01-26T14:57:30.614Z"
      },
      {
        "duration": 11,
        "start_time": "2022-01-26T14:57:30.646Z"
      },
      {
        "duration": 23,
        "start_time": "2022-01-26T14:57:30.660Z"
      },
      {
        "duration": 20,
        "start_time": "2022-01-26T14:57:30.685Z"
      },
      {
        "duration": 14,
        "start_time": "2022-01-26T14:57:30.709Z"
      },
      {
        "duration": 8,
        "start_time": "2022-01-26T14:57:30.725Z"
      },
      {
        "duration": 8,
        "start_time": "2022-01-26T14:57:30.735Z"
      },
      {
        "duration": 8,
        "start_time": "2022-01-26T14:57:30.745Z"
      },
      {
        "duration": 15,
        "start_time": "2022-01-26T14:57:30.755Z"
      },
      {
        "duration": 14,
        "start_time": "2022-01-26T14:57:30.772Z"
      },
      {
        "duration": 9,
        "start_time": "2022-01-26T14:57:30.788Z"
      },
      {
        "duration": 24,
        "start_time": "2022-01-26T14:57:30.800Z"
      },
      {
        "duration": 4,
        "start_time": "2022-01-26T14:57:30.826Z"
      },
      {
        "duration": 90,
        "start_time": "2022-01-26T14:57:30.833Z"
      },
      {
        "duration": 6161,
        "start_time": "2022-01-26T14:57:30.925Z"
      },
      {
        "duration": 16,
        "start_time": "2022-01-26T14:57:37.088Z"
      },
      {
        "duration": 15,
        "start_time": "2022-01-26T14:59:25.988Z"
      },
      {
        "duration": 4,
        "start_time": "2022-01-26T14:59:35.092Z"
      },
      {
        "duration": 6,
        "start_time": "2022-01-26T15:01:09.363Z"
      },
      {
        "duration": 6,
        "start_time": "2022-01-26T15:01:31.476Z"
      },
      {
        "duration": 16,
        "start_time": "2022-01-26T15:01:34.277Z"
      },
      {
        "duration": 5,
        "start_time": "2022-01-26T15:01:35.291Z"
      },
      {
        "duration": 6,
        "start_time": "2022-01-26T15:01:42.620Z"
      },
      {
        "duration": 6,
        "start_time": "2022-01-26T15:01:46.963Z"
      },
      {
        "duration": 5,
        "start_time": "2022-01-26T15:01:48.154Z"
      },
      {
        "duration": 8,
        "start_time": "2022-01-26T15:03:05.892Z"
      },
      {
        "duration": 6,
        "start_time": "2022-01-26T15:03:18.732Z"
      },
      {
        "duration": 7,
        "start_time": "2022-01-26T15:03:32.845Z"
      },
      {
        "duration": 6,
        "start_time": "2022-01-26T15:03:41.228Z"
      },
      {
        "duration": 1317,
        "start_time": "2022-01-26T15:04:26.092Z"
      },
      {
        "duration": 3,
        "start_time": "2022-01-26T15:04:27.412Z"
      },
      {
        "duration": 1188,
        "start_time": "2022-01-26T15:04:27.418Z"
      },
      {
        "duration": 25,
        "start_time": "2022-01-26T15:04:28.609Z"
      },
      {
        "duration": 11,
        "start_time": "2022-01-26T15:04:28.636Z"
      },
      {
        "duration": 5,
        "start_time": "2022-01-26T15:04:28.649Z"
      },
      {
        "duration": 8,
        "start_time": "2022-01-26T15:04:28.656Z"
      },
      {
        "duration": 7,
        "start_time": "2022-01-26T15:04:28.666Z"
      },
      {
        "duration": 47,
        "start_time": "2022-01-26T15:04:28.676Z"
      },
      {
        "duration": 5,
        "start_time": "2022-01-26T15:04:28.725Z"
      },
      {
        "duration": 9,
        "start_time": "2022-01-26T15:04:28.732Z"
      },
      {
        "duration": 6,
        "start_time": "2022-01-26T15:04:28.744Z"
      },
      {
        "duration": 6,
        "start_time": "2022-01-26T15:04:28.752Z"
      },
      {
        "duration": 9,
        "start_time": "2022-01-26T15:04:28.760Z"
      },
      {
        "duration": 53,
        "start_time": "2022-01-26T15:04:28.771Z"
      },
      {
        "duration": 5,
        "start_time": "2022-01-26T15:04:28.827Z"
      },
      {
        "duration": 95,
        "start_time": "2022-01-26T15:04:28.834Z"
      },
      {
        "duration": 6738,
        "start_time": "2022-01-26T15:04:28.932Z"
      },
      {
        "duration": 18,
        "start_time": "2022-01-26T15:04:35.674Z"
      },
      {
        "duration": 30,
        "start_time": "2022-01-26T15:04:35.695Z"
      },
      {
        "duration": 9,
        "start_time": "2022-01-26T15:04:35.727Z"
      },
      {
        "duration": 20,
        "start_time": "2022-01-26T15:04:35.738Z"
      },
      {
        "duration": 5,
        "start_time": "2022-01-26T15:04:35.760Z"
      },
      {
        "duration": 7,
        "start_time": "2022-01-26T15:04:35.768Z"
      },
      {
        "duration": 45,
        "start_time": "2022-01-26T15:04:35.778Z"
      },
      {
        "duration": 4,
        "start_time": "2022-01-26T15:06:53.486Z"
      },
      {
        "duration": 6,
        "start_time": "2022-01-26T15:07:01.305Z"
      },
      {
        "duration": 5,
        "start_time": "2022-01-26T15:07:02.607Z"
      },
      {
        "duration": 7,
        "start_time": "2022-01-26T15:07:29.920Z"
      },
      {
        "duration": 18,
        "start_time": "2022-01-26T15:08:14.518Z"
      },
      {
        "duration": 6,
        "start_time": "2022-01-26T15:08:55.431Z"
      },
      {
        "duration": 1672,
        "start_time": "2022-01-26T15:13:24.294Z"
      },
      {
        "duration": 4,
        "start_time": "2022-01-26T15:13:25.969Z"
      },
      {
        "duration": 31,
        "start_time": "2022-01-26T15:13:25.976Z"
      },
      {
        "duration": 34,
        "start_time": "2022-01-26T15:13:26.009Z"
      },
      {
        "duration": 9,
        "start_time": "2022-01-26T15:13:26.045Z"
      },
      {
        "duration": 5,
        "start_time": "2022-01-26T15:13:26.057Z"
      },
      {
        "duration": 9,
        "start_time": "2022-01-26T15:13:26.064Z"
      },
      {
        "duration": 7,
        "start_time": "2022-01-26T15:13:26.077Z"
      },
      {
        "duration": 9,
        "start_time": "2022-01-26T15:13:26.128Z"
      },
      {
        "duration": 8,
        "start_time": "2022-01-26T15:13:26.140Z"
      },
      {
        "duration": 17,
        "start_time": "2022-01-26T15:13:26.150Z"
      },
      {
        "duration": 12,
        "start_time": "2022-01-26T15:13:26.170Z"
      },
      {
        "duration": 12,
        "start_time": "2022-01-26T15:13:26.184Z"
      },
      {
        "duration": 24,
        "start_time": "2022-01-26T15:13:26.199Z"
      },
      {
        "duration": 8,
        "start_time": "2022-01-26T15:13:26.226Z"
      },
      {
        "duration": 12,
        "start_time": "2022-01-26T15:13:26.237Z"
      },
      {
        "duration": 128,
        "start_time": "2022-01-26T15:13:26.251Z"
      },
      {
        "duration": 7261,
        "start_time": "2022-01-26T15:13:26.382Z"
      },
      {
        "duration": 19,
        "start_time": "2022-01-26T15:13:33.646Z"
      },
      {
        "duration": 7,
        "start_time": "2022-01-26T15:13:33.668Z"
      },
      {
        "duration": 56,
        "start_time": "2022-01-26T15:13:33.677Z"
      },
      {
        "duration": 6,
        "start_time": "2022-01-26T15:13:33.739Z"
      },
      {
        "duration": 3,
        "start_time": "2022-01-26T15:34:56.425Z"
      },
      {
        "duration": 3,
        "start_time": "2022-01-26T15:38:00.075Z"
      },
      {
        "duration": 6,
        "start_time": "2022-01-26T15:42:15.698Z"
      },
      {
        "duration": 6,
        "start_time": "2022-01-26T15:42:17.505Z"
      },
      {
        "duration": 6,
        "start_time": "2022-01-26T15:43:39.348Z"
      },
      {
        "duration": 4,
        "start_time": "2022-01-26T15:43:48.587Z"
      },
      {
        "duration": 4,
        "start_time": "2022-01-26T15:44:46.002Z"
      },
      {
        "duration": 4,
        "start_time": "2022-01-26T15:47:17.819Z"
      },
      {
        "duration": 5,
        "start_time": "2022-01-26T15:47:18.897Z"
      },
      {
        "duration": 7,
        "start_time": "2022-01-26T15:47:20.544Z"
      },
      {
        "duration": 6,
        "start_time": "2022-01-26T15:47:21.871Z"
      },
      {
        "duration": 1308,
        "start_time": "2022-01-26T15:48:36.934Z"
      },
      {
        "duration": 4,
        "start_time": "2022-01-26T15:48:38.245Z"
      },
      {
        "duration": 21,
        "start_time": "2022-01-26T15:48:38.258Z"
      },
      {
        "duration": 53,
        "start_time": "2022-01-26T15:48:38.282Z"
      },
      {
        "duration": 9,
        "start_time": "2022-01-26T15:48:38.338Z"
      },
      {
        "duration": 7,
        "start_time": "2022-01-26T15:48:38.350Z"
      },
      {
        "duration": 5,
        "start_time": "2022-01-26T15:48:38.362Z"
      },
      {
        "duration": 53,
        "start_time": "2022-01-26T15:48:38.371Z"
      },
      {
        "duration": 9,
        "start_time": "2022-01-26T15:48:38.427Z"
      },
      {
        "duration": 7,
        "start_time": "2022-01-26T15:48:38.439Z"
      },
      {
        "duration": 6,
        "start_time": "2022-01-26T15:48:38.449Z"
      },
      {
        "duration": 8,
        "start_time": "2022-01-26T15:48:38.458Z"
      },
      {
        "duration": 57,
        "start_time": "2022-01-26T15:48:38.468Z"
      },
      {
        "duration": 5,
        "start_time": "2022-01-26T15:48:38.528Z"
      },
      {
        "duration": 8,
        "start_time": "2022-01-26T15:48:38.535Z"
      },
      {
        "duration": 9,
        "start_time": "2022-01-26T15:48:38.546Z"
      },
      {
        "duration": 104,
        "start_time": "2022-01-26T15:48:38.558Z"
      },
      {
        "duration": 6471,
        "start_time": "2022-01-26T15:48:38.671Z"
      },
      {
        "duration": 16,
        "start_time": "2022-01-26T15:48:45.145Z"
      },
      {
        "duration": 6,
        "start_time": "2022-01-26T15:48:45.164Z"
      },
      {
        "duration": 53,
        "start_time": "2022-01-26T15:48:45.172Z"
      },
      {
        "duration": 6,
        "start_time": "2022-01-26T15:48:45.229Z"
      },
      {
        "duration": 17,
        "start_time": "2022-01-26T15:48:45.238Z"
      },
      {
        "duration": 11,
        "start_time": "2022-01-26T15:48:45.258Z"
      },
      {
        "duration": 22,
        "start_time": "2022-01-26T15:48:45.272Z"
      },
      {
        "duration": 5,
        "start_time": "2022-01-26T15:48:45.297Z"
      },
      {
        "duration": 19,
        "start_time": "2022-01-26T15:48:45.305Z"
      },
      {
        "duration": 7,
        "start_time": "2022-01-26T16:01:27.929Z"
      },
      {
        "duration": 6,
        "start_time": "2022-01-26T16:01:31.791Z"
      },
      {
        "duration": 6,
        "start_time": "2022-01-26T16:01:32.975Z"
      },
      {
        "duration": 5,
        "start_time": "2022-01-26T16:01:34.518Z"
      },
      {
        "duration": 6,
        "start_time": "2022-01-26T16:01:35.830Z"
      },
      {
        "duration": 7,
        "start_time": "2022-01-26T16:02:50.521Z"
      },
      {
        "duration": 6,
        "start_time": "2022-01-26T16:02:52.877Z"
      },
      {
        "duration": 5,
        "start_time": "2022-01-26T16:02:55.103Z"
      },
      {
        "duration": 6,
        "start_time": "2022-01-26T16:02:58.445Z"
      },
      {
        "duration": 4,
        "start_time": "2022-01-26T16:02:59.686Z"
      },
      {
        "duration": 8,
        "start_time": "2022-01-26T16:05:47.957Z"
      },
      {
        "duration": 7,
        "start_time": "2022-01-26T16:05:49.355Z"
      },
      {
        "duration": 6,
        "start_time": "2022-01-26T16:05:50.620Z"
      },
      {
        "duration": 6,
        "start_time": "2022-01-26T16:05:52.019Z"
      },
      {
        "duration": 5,
        "start_time": "2022-01-26T16:05:53.215Z"
      },
      {
        "duration": 7,
        "start_time": "2022-01-26T16:06:46.593Z"
      },
      {
        "duration": 5,
        "start_time": "2022-01-26T16:06:48.416Z"
      },
      {
        "duration": 5,
        "start_time": "2022-01-26T16:06:50.019Z"
      },
      {
        "duration": 5,
        "start_time": "2022-01-26T16:06:51.630Z"
      },
      {
        "duration": 5,
        "start_time": "2022-01-26T16:06:52.917Z"
      },
      {
        "duration": 446,
        "start_time": "2022-01-26T16:07:56.679Z"
      },
      {
        "duration": 327,
        "start_time": "2022-01-26T16:08:11.893Z"
      },
      {
        "duration": 7,
        "start_time": "2022-01-26T16:08:58.689Z"
      },
      {
        "duration": 6,
        "start_time": "2022-01-26T16:09:00.189Z"
      },
      {
        "duration": 5,
        "start_time": "2022-01-26T16:09:01.512Z"
      },
      {
        "duration": 5,
        "start_time": "2022-01-26T16:09:03.332Z"
      },
      {
        "duration": 5,
        "start_time": "2022-01-26T16:09:04.447Z"
      },
      {
        "duration": 1294,
        "start_time": "2022-01-26T16:11:27.154Z"
      },
      {
        "duration": 2,
        "start_time": "2022-01-26T16:11:28.451Z"
      },
      {
        "duration": 27,
        "start_time": "2022-01-26T16:11:28.456Z"
      },
      {
        "duration": 26,
        "start_time": "2022-01-26T16:11:28.485Z"
      },
      {
        "duration": 17,
        "start_time": "2022-01-26T16:11:28.513Z"
      },
      {
        "duration": 5,
        "start_time": "2022-01-26T16:11:28.533Z"
      },
      {
        "duration": 7,
        "start_time": "2022-01-26T16:11:28.540Z"
      },
      {
        "duration": 7,
        "start_time": "2022-01-26T16:11:28.551Z"
      },
      {
        "duration": 8,
        "start_time": "2022-01-26T16:11:28.561Z"
      },
      {
        "duration": 5,
        "start_time": "2022-01-26T16:11:28.572Z"
      },
      {
        "duration": 47,
        "start_time": "2022-01-26T16:11:28.579Z"
      },
      {
        "duration": 9,
        "start_time": "2022-01-26T16:11:28.629Z"
      },
      {
        "duration": 9,
        "start_time": "2022-01-26T16:11:28.640Z"
      },
      {
        "duration": 9,
        "start_time": "2022-01-26T16:11:28.652Z"
      },
      {
        "duration": 8,
        "start_time": "2022-01-26T16:11:28.663Z"
      },
      {
        "duration": 7,
        "start_time": "2022-01-26T16:11:28.673Z"
      },
      {
        "duration": 112,
        "start_time": "2022-01-26T16:11:28.682Z"
      },
      {
        "duration": 6305,
        "start_time": "2022-01-26T16:11:28.797Z"
      },
      {
        "duration": 25,
        "start_time": "2022-01-26T16:11:35.104Z"
      },
      {
        "duration": 8,
        "start_time": "2022-01-26T16:11:35.131Z"
      },
      {
        "duration": 20,
        "start_time": "2022-01-26T16:11:35.141Z"
      },
      {
        "duration": 7,
        "start_time": "2022-01-26T16:11:35.163Z"
      },
      {
        "duration": 6,
        "start_time": "2022-01-26T16:11:35.174Z"
      },
      {
        "duration": 5,
        "start_time": "2022-01-26T16:11:35.224Z"
      },
      {
        "duration": 8,
        "start_time": "2022-01-26T16:11:35.232Z"
      },
      {
        "duration": 6,
        "start_time": "2022-01-26T16:11:35.242Z"
      },
      {
        "duration": 9,
        "start_time": "2022-01-26T16:11:35.250Z"
      },
      {
        "duration": 33,
        "start_time": "2022-01-26T16:15:43.602Z"
      },
      {
        "duration": 5,
        "start_time": "2022-01-26T16:15:56.617Z"
      },
      {
        "duration": 1328,
        "start_time": "2022-01-26T16:21:51.517Z"
      },
      {
        "duration": 3,
        "start_time": "2022-01-26T16:21:52.847Z"
      },
      {
        "duration": 19,
        "start_time": "2022-01-26T16:21:52.854Z"
      },
      {
        "duration": 25,
        "start_time": "2022-01-26T16:21:52.876Z"
      },
      {
        "duration": 27,
        "start_time": "2022-01-26T16:21:52.903Z"
      },
      {
        "duration": 5,
        "start_time": "2022-01-26T16:21:52.932Z"
      },
      {
        "duration": 8,
        "start_time": "2022-01-26T16:21:52.939Z"
      },
      {
        "duration": 6,
        "start_time": "2022-01-26T16:21:52.950Z"
      },
      {
        "duration": 6,
        "start_time": "2022-01-26T16:21:52.959Z"
      },
      {
        "duration": 7,
        "start_time": "2022-01-26T16:21:52.967Z"
      },
      {
        "duration": 49,
        "start_time": "2022-01-26T16:21:52.976Z"
      },
      {
        "duration": 8,
        "start_time": "2022-01-26T16:21:53.028Z"
      },
      {
        "duration": 10,
        "start_time": "2022-01-26T16:21:53.038Z"
      },
      {
        "duration": 15,
        "start_time": "2022-01-26T16:21:53.050Z"
      },
      {
        "duration": 8,
        "start_time": "2022-01-26T16:21:53.068Z"
      },
      {
        "duration": 7,
        "start_time": "2022-01-26T16:21:53.078Z"
      },
      {
        "duration": 99,
        "start_time": "2022-01-26T16:21:53.087Z"
      },
      {
        "duration": 6216,
        "start_time": "2022-01-26T16:21:53.189Z"
      },
      {
        "duration": 23,
        "start_time": "2022-01-26T16:21:59.408Z"
      },
      {
        "duration": 8,
        "start_time": "2022-01-26T16:21:59.433Z"
      },
      {
        "duration": 24,
        "start_time": "2022-01-26T16:21:59.443Z"
      },
      {
        "duration": 7,
        "start_time": "2022-01-26T16:21:59.469Z"
      },
      {
        "duration": 44,
        "start_time": "2022-01-26T16:21:59.480Z"
      },
      {
        "duration": 5,
        "start_time": "2022-01-26T16:21:59.527Z"
      },
      {
        "duration": 5,
        "start_time": "2022-01-26T16:21:59.535Z"
      },
      {
        "duration": 5,
        "start_time": "2022-01-26T16:21:59.543Z"
      },
      {
        "duration": 9,
        "start_time": "2022-01-26T16:21:59.550Z"
      },
      {
        "duration": 70,
        "start_time": "2022-01-26T16:21:59.561Z"
      },
      {
        "duration": 6,
        "start_time": "2022-01-26T16:21:59.633Z"
      },
      {
        "duration": 6,
        "start_time": "2022-01-26T16:23:25.792Z"
      },
      {
        "duration": 7,
        "start_time": "2022-01-26T16:23:59.327Z"
      },
      {
        "duration": 100,
        "start_time": "2022-01-26T16:24:35.838Z"
      },
      {
        "duration": 36,
        "start_time": "2022-01-26T16:25:01.472Z"
      },
      {
        "duration": 1261,
        "start_time": "2022-01-26T16:25:17.098Z"
      },
      {
        "duration": 4,
        "start_time": "2022-01-26T16:25:18.361Z"
      },
      {
        "duration": 22,
        "start_time": "2022-01-26T16:25:18.368Z"
      },
      {
        "duration": 32,
        "start_time": "2022-01-26T16:25:18.393Z"
      },
      {
        "duration": 8,
        "start_time": "2022-01-26T16:25:18.428Z"
      },
      {
        "duration": 6,
        "start_time": "2022-01-26T16:25:18.439Z"
      },
      {
        "duration": 6,
        "start_time": "2022-01-26T16:25:18.447Z"
      },
      {
        "duration": 5,
        "start_time": "2022-01-26T16:25:18.457Z"
      },
      {
        "duration": 6,
        "start_time": "2022-01-26T16:25:18.465Z"
      },
      {
        "duration": 51,
        "start_time": "2022-01-26T16:25:18.473Z"
      },
      {
        "duration": 5,
        "start_time": "2022-01-26T16:25:18.526Z"
      },
      {
        "duration": 6,
        "start_time": "2022-01-26T16:25:18.534Z"
      },
      {
        "duration": 6,
        "start_time": "2022-01-26T16:25:18.542Z"
      },
      {
        "duration": 7,
        "start_time": "2022-01-26T16:25:18.550Z"
      },
      {
        "duration": 5,
        "start_time": "2022-01-26T16:25:18.560Z"
      },
      {
        "duration": 59,
        "start_time": "2022-01-26T16:25:18.568Z"
      },
      {
        "duration": 69,
        "start_time": "2022-01-26T16:25:18.629Z"
      },
      {
        "duration": 6196,
        "start_time": "2022-01-26T16:25:18.700Z"
      },
      {
        "duration": 29,
        "start_time": "2022-01-26T16:25:24.898Z"
      },
      {
        "duration": 7,
        "start_time": "2022-01-26T16:25:24.930Z"
      },
      {
        "duration": 20,
        "start_time": "2022-01-26T16:25:24.940Z"
      },
      {
        "duration": 8,
        "start_time": "2022-01-26T16:25:24.963Z"
      },
      {
        "duration": 52,
        "start_time": "2022-01-26T16:25:24.976Z"
      },
      {
        "duration": 7,
        "start_time": "2022-01-26T16:25:25.031Z"
      },
      {
        "duration": 11,
        "start_time": "2022-01-26T16:25:25.040Z"
      },
      {
        "duration": 36,
        "start_time": "2022-01-26T16:25:25.053Z"
      },
      {
        "duration": 1227,
        "start_time": "2022-01-26T18:02:19.396Z"
      },
      {
        "duration": 4,
        "start_time": "2022-01-26T18:02:20.625Z"
      },
      {
        "duration": 23,
        "start_time": "2022-01-26T18:02:20.632Z"
      },
      {
        "duration": 25,
        "start_time": "2022-01-26T18:02:20.658Z"
      },
      {
        "duration": 9,
        "start_time": "2022-01-26T18:02:20.686Z"
      },
      {
        "duration": 26,
        "start_time": "2022-01-26T18:02:20.697Z"
      },
      {
        "duration": 7,
        "start_time": "2022-01-26T18:02:20.727Z"
      },
      {
        "duration": 5,
        "start_time": "2022-01-26T18:02:20.739Z"
      },
      {
        "duration": 7,
        "start_time": "2022-01-26T18:02:20.748Z"
      },
      {
        "duration": 6,
        "start_time": "2022-01-26T18:02:20.757Z"
      },
      {
        "duration": 7,
        "start_time": "2022-01-26T18:02:20.765Z"
      },
      {
        "duration": 59,
        "start_time": "2022-01-26T18:02:20.775Z"
      },
      {
        "duration": 4,
        "start_time": "2022-01-26T18:02:20.837Z"
      },
      {
        "duration": 6,
        "start_time": "2022-01-26T18:02:20.844Z"
      },
      {
        "duration": 12,
        "start_time": "2022-01-26T18:02:20.852Z"
      },
      {
        "duration": 9,
        "start_time": "2022-01-26T18:02:20.866Z"
      },
      {
        "duration": 104,
        "start_time": "2022-01-26T18:02:20.877Z"
      },
      {
        "duration": 6251,
        "start_time": "2022-01-26T18:02:20.984Z"
      },
      {
        "duration": 16,
        "start_time": "2022-01-26T18:02:27.238Z"
      },
      {
        "duration": 8,
        "start_time": "2022-01-26T18:02:27.256Z"
      },
      {
        "duration": 23,
        "start_time": "2022-01-26T18:02:27.267Z"
      },
      {
        "duration": 34,
        "start_time": "2022-01-26T18:02:27.292Z"
      },
      {
        "duration": 7,
        "start_time": "2022-01-26T18:02:27.330Z"
      },
      {
        "duration": 5,
        "start_time": "2022-01-26T18:02:27.340Z"
      },
      {
        "duration": 5,
        "start_time": "2022-01-26T18:02:27.348Z"
      },
      {
        "duration": 74,
        "start_time": "2022-01-26T18:02:27.356Z"
      }
    ],
    "kernelspec": {
      "display_name": "Python 3",
      "language": "python",
      "name": "python3"
    },
    "language_info": {
      "codemirror_mode": {
        "name": "ipython",
        "version": 3
      },
      "file_extension": ".py",
      "mimetype": "text/x-python",
      "name": "python",
      "nbconvert_exporter": "python",
      "pygments_lexer": "ipython3",
      "version": "3.7.8"
    },
    "toc": {
      "base_numbering": 1,
      "nav_menu": {},
      "number_sections": true,
      "sideBar": true,
      "skip_h1_title": true,
      "title_cell": "Table of Contents",
      "title_sidebar": "Contents",
      "toc_cell": false,
      "toc_position": {},
      "toc_section_display": true,
      "toc_window_display": false
    },
    "colab": {
      "name": "smart-ultra.ipynb",
      "provenance": [],
      "collapsed_sections": []
    }
  },
  "nbformat": 4,
  "nbformat_minor": 0
}